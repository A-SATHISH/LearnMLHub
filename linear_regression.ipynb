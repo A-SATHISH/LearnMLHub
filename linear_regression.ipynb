{
  "nbformat": 4,
  "nbformat_minor": 0,
  "metadata": {
    "colab": {
      "provenance": [],
      "authorship_tag": "ABX9TyPcNbMGvnqRQ5JTU/rPTPHk",
      "include_colab_link": true
    },
    "kernelspec": {
      "name": "python3",
      "display_name": "Python 3"
    },
    "language_info": {
      "name": "python"
    }
  },
  "cells": [
    {
      "cell_type": "markdown",
      "metadata": {
        "id": "view-in-github",
        "colab_type": "text"
      },
      "source": [
        "<a href=\"https://colab.research.google.com/github/A-SATHISH/LearnMLHub/blob/main/linear_regression.ipynb\" target=\"_parent\"><img src=\"https://colab.research.google.com/assets/colab-badge.svg\" alt=\"Open In Colab\"/></a>"
      ]
    },
    {
      "cell_type": "code",
      "execution_count": 50,
      "metadata": {
        "id": "QNOsKeD2Hq9S"
      },
      "outputs": [],
      "source": [
        "import numpy as np"
      ]
    },
    {
      "cell_type": "code",
      "source": [
        "# Set the seed for NumPy's random number generator to ensure reproducibility\n",
        "np.random.seed(43)"
      ],
      "metadata": {
        "id": "aghc_DwhHy8Z"
      },
      "execution_count": 51,
      "outputs": []
    },
    {
      "cell_type": "code",
      "source": [
        "# Generate an array X with shape (100, 1) containing random values between 0 and 2 (0-2--->since it's multiplied by 2)\n",
        "X = 2 * np.random.rand(100, 1)"
      ],
      "metadata": {
        "id": "WnJW2JYbjL4J"
      },
      "execution_count": 52,
      "outputs": []
    },
    {
      "cell_type": "code",
      "source": [
        "# Generate an array y with shape (100, 1) representing a linear relationship with noise\n",
        "# The relationship is y = 4 + 3*X + noise, where noise is random values from a normal distribution\n",
        "y = 4 + 3 * X + np.random.randn(100, 1)"
      ],
      "metadata": {
        "id": "q25QnD3xjQUv"
      },
      "execution_count": 53,
      "outputs": []
    },
    {
      "cell_type": "code",
      "source": [
        "print(X)"
      ],
      "metadata": {
        "colab": {
          "base_uri": "https://localhost:8080/"
        },
        "id": "18bNtsvxg5K1",
        "outputId": "ab9af658-0ee3-4a7d-84a5-3adedc3f2fc6"
      },
      "execution_count": 54,
      "outputs": [
        {
          "output_type": "stream",
          "name": "stdout",
          "text": [
            "[[0.23010913]\n",
            " [1.21813308]\n",
            " [0.26678193]\n",
            " [0.48117924]\n",
            " [0.65427811]\n",
            " [1.71827498]\n",
            " [1.33218043]\n",
            " [1.08232442]\n",
            " [0.05802765]\n",
            " [1.46749659]\n",
            " [0.78990004]\n",
            " [1.60409424]\n",
            " [0.50884225]\n",
            " [0.11376987]\n",
            " [1.73329728]\n",
            " [0.44205799]\n",
            " [0.8099789 ]\n",
            " [0.63219294]\n",
            " [0.1533254 ]\n",
            " [1.68644939]\n",
            " [1.6978783 ]\n",
            " [1.94293018]\n",
            " [0.77075383]\n",
            " [1.90897625]\n",
            " [0.89151672]\n",
            " [1.3394493 ]\n",
            " [0.1650001 ]\n",
            " [1.79419716]\n",
            " [0.596007  ]\n",
            " [0.52460965]\n",
            " [0.0102591 ]\n",
            " [1.08640503]\n",
            " [0.95119273]\n",
            " [1.27274736]\n",
            " [1.95640827]\n",
            " [1.81732552]\n",
            " [1.82030615]\n",
            " [1.05051134]\n",
            " [0.2080379 ]\n",
            " [0.36182919]\n",
            " [1.90608044]\n",
            " [0.82390597]\n",
            " [1.73003424]\n",
            " [1.34435456]\n",
            " [1.25757159]\n",
            " [0.55111755]\n",
            " [1.79349454]\n",
            " [0.41378274]\n",
            " [0.80881049]\n",
            " [1.98714498]\n",
            " [1.47145416]\n",
            " [0.89012282]\n",
            " [1.12132634]\n",
            " [0.82251098]\n",
            " [1.45397598]\n",
            " [0.79839377]\n",
            " [1.34029033]\n",
            " [1.40943122]\n",
            " [1.21911974]\n",
            " [1.08006893]\n",
            " [0.4121637 ]\n",
            " [0.39832295]\n",
            " [1.59147773]\n",
            " [0.58066556]\n",
            " [1.31192566]\n",
            " [0.59923355]\n",
            " [0.28895676]\n",
            " [0.80791333]\n",
            " [0.62053905]\n",
            " [0.48679603]\n",
            " [1.17620809]\n",
            " [0.49068651]\n",
            " [1.49554122]\n",
            " [1.4402933 ]\n",
            " [1.39052173]\n",
            " [0.20548556]\n",
            " [1.88728486]\n",
            " [1.00667927]\n",
            " [1.79934724]\n",
            " [0.39715977]\n",
            " [1.18889837]\n",
            " [1.93081716]\n",
            " [1.99739649]\n",
            " [0.04833725]\n",
            " [0.96260667]\n",
            " [0.58284538]\n",
            " [0.12744114]\n",
            " [1.1392488 ]\n",
            " [0.01016657]\n",
            " [1.22255518]\n",
            " [1.74036295]\n",
            " [1.76720293]\n",
            " [1.90863897]\n",
            " [1.47972764]\n",
            " [0.36942592]\n",
            " [0.86935664]\n",
            " [1.77179899]\n",
            " [0.51009256]\n",
            " [0.88662539]\n",
            " [1.23387395]]\n"
          ]
        }
      ]
    },
    {
      "cell_type": "code",
      "source": [
        "print(y)"
      ],
      "metadata": {
        "colab": {
          "base_uri": "https://localhost:8080/"
        },
        "id": "zv7Hzmqfg83H",
        "outputId": "4b6b5a70-9443-4a82-bf80-10d785f6b091"
      },
      "execution_count": 55,
      "outputs": [
        {
          "output_type": "stream",
          "name": "stdout",
          "text": [
            "[[ 4.66635333]\n",
            " [ 6.69293019]\n",
            " [ 4.7077796 ]\n",
            " [ 5.21980564]\n",
            " [ 6.7957265 ]\n",
            " [10.12894452]\n",
            " [ 8.15935944]\n",
            " [ 7.13248125]\n",
            " [ 5.36055138]\n",
            " [ 8.58228143]\n",
            " [ 7.88614173]\n",
            " [ 7.17825069]\n",
            " [ 7.30849766]\n",
            " [ 3.72358192]\n",
            " [ 8.11349255]\n",
            " [ 5.28142065]\n",
            " [ 5.26623427]\n",
            " [ 6.46551832]\n",
            " [ 3.99733234]\n",
            " [ 9.34670327]\n",
            " [ 8.11629618]\n",
            " [ 9.60635429]\n",
            " [ 6.40919325]\n",
            " [ 9.5385444 ]\n",
            " [ 8.26615232]\n",
            " [ 8.60415874]\n",
            " [ 4.69867569]\n",
            " [ 7.52607078]\n",
            " [ 6.16621046]\n",
            " [ 6.80996925]\n",
            " [ 3.34080549]\n",
            " [ 7.0608604 ]\n",
            " [ 3.82783833]\n",
            " [ 6.57261584]\n",
            " [ 7.78518533]\n",
            " [ 9.55609819]\n",
            " [ 9.31068496]\n",
            " [ 7.04571752]\n",
            " [ 4.18715956]\n",
            " [ 6.10462389]\n",
            " [ 8.4854381 ]\n",
            " [ 6.39759336]\n",
            " [ 9.78649191]\n",
            " [ 7.85367111]\n",
            " [ 7.68191971]\n",
            " [ 4.82827303]\n",
            " [ 9.04551416]\n",
            " [ 5.95969904]\n",
            " [ 4.40696927]\n",
            " [ 9.80340591]\n",
            " [ 7.83014736]\n",
            " [ 6.60006198]\n",
            " [ 9.13716025]\n",
            " [ 6.02090364]\n",
            " [ 9.85130253]\n",
            " [ 7.49549004]\n",
            " [ 8.05076731]\n",
            " [ 8.31539946]\n",
            " [ 7.83859417]\n",
            " [ 6.41503499]\n",
            " [ 5.86332987]\n",
            " [ 4.58227101]\n",
            " [ 8.81017552]\n",
            " [ 3.54603406]\n",
            " [ 7.07249428]\n",
            " [ 6.33280002]\n",
            " [ 3.74340698]\n",
            " [ 6.75770509]\n",
            " [ 5.35438671]\n",
            " [ 6.45053827]\n",
            " [ 8.78656822]\n",
            " [ 5.64968444]\n",
            " [ 8.47175625]\n",
            " [ 8.361316  ]\n",
            " [ 8.15012043]\n",
            " [ 5.80811325]\n",
            " [12.16671925]\n",
            " [ 5.68657667]\n",
            " [ 8.36976906]\n",
            " [ 6.55464897]\n",
            " [ 6.42442053]\n",
            " [ 8.42042603]\n",
            " [12.10756091]\n",
            " [ 3.87073686]\n",
            " [ 6.63767458]\n",
            " [ 5.23970574]\n",
            " [ 4.96366414]\n",
            " [ 6.28464631]\n",
            " [ 5.80488893]\n",
            " [ 8.42071186]\n",
            " [ 9.16928863]\n",
            " [ 8.74990319]\n",
            " [ 9.83417384]\n",
            " [ 9.48315257]\n",
            " [ 7.72572037]\n",
            " [ 8.1168383 ]\n",
            " [10.32829946]\n",
            " [ 5.57332342]\n",
            " [ 7.89238078]\n",
            " [ 7.35521101]]\n"
          ]
        }
      ]
    },
    {
      "cell_type": "code",
      "source": [
        "from sklearn.model_selection import train_test_split\n",
        "X_train, X_test, y_train, y_test = train_test_split(X, y, test_size=0.2, random_state=42)"
      ],
      "metadata": {
        "id": "KTR5ssmCIYlD"
      },
      "execution_count": 56,
      "outputs": []
    },
    {
      "cell_type": "code",
      "source": [
        "from sklearn.linear_model import LinearRegression\n",
        "model = LinearRegression()\n",
        "model.fit(X_train, y_train)"
      ],
      "metadata": {
        "colab": {
          "base_uri": "https://localhost:8080/",
          "height": 74
        },
        "id": "SRbM2LnYIepO",
        "outputId": "12da7035-6ebf-4315-f711-2c2c67a96fd4"
      },
      "execution_count": 57,
      "outputs": [
        {
          "output_type": "execute_result",
          "data": {
            "text/plain": [
              "LinearRegression()"
            ],
            "text/html": [
              "<style>#sk-container-id-7 {color: black;background-color: white;}#sk-container-id-7 pre{padding: 0;}#sk-container-id-7 div.sk-toggleable {background-color: white;}#sk-container-id-7 label.sk-toggleable__label {cursor: pointer;display: block;width: 100%;margin-bottom: 0;padding: 0.3em;box-sizing: border-box;text-align: center;}#sk-container-id-7 label.sk-toggleable__label-arrow:before {content: \"▸\";float: left;margin-right: 0.25em;color: #696969;}#sk-container-id-7 label.sk-toggleable__label-arrow:hover:before {color: black;}#sk-container-id-7 div.sk-estimator:hover label.sk-toggleable__label-arrow:before {color: black;}#sk-container-id-7 div.sk-toggleable__content {max-height: 0;max-width: 0;overflow: hidden;text-align: left;background-color: #f0f8ff;}#sk-container-id-7 div.sk-toggleable__content pre {margin: 0.2em;color: black;border-radius: 0.25em;background-color: #f0f8ff;}#sk-container-id-7 input.sk-toggleable__control:checked~div.sk-toggleable__content {max-height: 200px;max-width: 100%;overflow: auto;}#sk-container-id-7 input.sk-toggleable__control:checked~label.sk-toggleable__label-arrow:before {content: \"▾\";}#sk-container-id-7 div.sk-estimator input.sk-toggleable__control:checked~label.sk-toggleable__label {background-color: #d4ebff;}#sk-container-id-7 div.sk-label input.sk-toggleable__control:checked~label.sk-toggleable__label {background-color: #d4ebff;}#sk-container-id-7 input.sk-hidden--visually {border: 0;clip: rect(1px 1px 1px 1px);clip: rect(1px, 1px, 1px, 1px);height: 1px;margin: -1px;overflow: hidden;padding: 0;position: absolute;width: 1px;}#sk-container-id-7 div.sk-estimator {font-family: monospace;background-color: #f0f8ff;border: 1px dotted black;border-radius: 0.25em;box-sizing: border-box;margin-bottom: 0.5em;}#sk-container-id-7 div.sk-estimator:hover {background-color: #d4ebff;}#sk-container-id-7 div.sk-parallel-item::after {content: \"\";width: 100%;border-bottom: 1px solid gray;flex-grow: 1;}#sk-container-id-7 div.sk-label:hover label.sk-toggleable__label {background-color: #d4ebff;}#sk-container-id-7 div.sk-serial::before {content: \"\";position: absolute;border-left: 1px solid gray;box-sizing: border-box;top: 0;bottom: 0;left: 50%;z-index: 0;}#sk-container-id-7 div.sk-serial {display: flex;flex-direction: column;align-items: center;background-color: white;padding-right: 0.2em;padding-left: 0.2em;position: relative;}#sk-container-id-7 div.sk-item {position: relative;z-index: 1;}#sk-container-id-7 div.sk-parallel {display: flex;align-items: stretch;justify-content: center;background-color: white;position: relative;}#sk-container-id-7 div.sk-item::before, #sk-container-id-7 div.sk-parallel-item::before {content: \"\";position: absolute;border-left: 1px solid gray;box-sizing: border-box;top: 0;bottom: 0;left: 50%;z-index: -1;}#sk-container-id-7 div.sk-parallel-item {display: flex;flex-direction: column;z-index: 1;position: relative;background-color: white;}#sk-container-id-7 div.sk-parallel-item:first-child::after {align-self: flex-end;width: 50%;}#sk-container-id-7 div.sk-parallel-item:last-child::after {align-self: flex-start;width: 50%;}#sk-container-id-7 div.sk-parallel-item:only-child::after {width: 0;}#sk-container-id-7 div.sk-dashed-wrapped {border: 1px dashed gray;margin: 0 0.4em 0.5em 0.4em;box-sizing: border-box;padding-bottom: 0.4em;background-color: white;}#sk-container-id-7 div.sk-label label {font-family: monospace;font-weight: bold;display: inline-block;line-height: 1.2em;}#sk-container-id-7 div.sk-label-container {text-align: center;}#sk-container-id-7 div.sk-container {/* jupyter's `normalize.less` sets `[hidden] { display: none; }` but bootstrap.min.css set `[hidden] { display: none !important; }` so we also need the `!important` here to be able to override the default hidden behavior on the sphinx rendered scikit-learn.org. See: https://github.com/scikit-learn/scikit-learn/issues/21755 */display: inline-block !important;position: relative;}#sk-container-id-7 div.sk-text-repr-fallback {display: none;}</style><div id=\"sk-container-id-7\" class=\"sk-top-container\"><div class=\"sk-text-repr-fallback\"><pre>LinearRegression()</pre><b>In a Jupyter environment, please rerun this cell to show the HTML representation or trust the notebook. <br />On GitHub, the HTML representation is unable to render, please try loading this page with nbviewer.org.</b></div><div class=\"sk-container\" hidden><div class=\"sk-item\"><div class=\"sk-estimator sk-toggleable\"><input class=\"sk-toggleable__control sk-hidden--visually\" id=\"sk-estimator-id-7\" type=\"checkbox\" checked><label for=\"sk-estimator-id-7\" class=\"sk-toggleable__label sk-toggleable__label-arrow\">LinearRegression</label><div class=\"sk-toggleable__content\"><pre>LinearRegression()</pre></div></div></div></div></div>"
            ]
          },
          "metadata": {},
          "execution_count": 57
        }
      ]
    },
    {
      "cell_type": "code",
      "source": [
        "y_pred = model.predict(X_test)"
      ],
      "metadata": {
        "id": "qzvfRRhDIqE5"
      },
      "execution_count": 58,
      "outputs": []
    },
    {
      "cell_type": "code",
      "source": [
        "import matplotlib.pyplot as plt\n",
        "plt.scatter(X_test, y_test)\n",
        "plt.plot(X_test, y_pred, 'r-', label='Linear Regression')\n",
        "plt.xlabel('Independent Variable (X)')\n",
        "plt.ylabel('Dependent Variable (y)')\n",
        "plt.legend()\n",
        "plt.show()"
      ],
      "metadata": {
        "colab": {
          "base_uri": "https://localhost:8080/",
          "height": 449
        },
        "id": "coWeR9r1IsUb",
        "outputId": "60fb8800-72f0-48a0-aeae-1ba53a1a1d36"
      },
      "execution_count": 59,
      "outputs": [
        {
          "output_type": "display_data",
          "data": {
            "text/plain": [
              "<Figure size 640x480 with 1 Axes>"
            ],
            "image/png": "[encoded data removed]"
          },
          "metadata": {}
        }
      ]
    }
  ]
}